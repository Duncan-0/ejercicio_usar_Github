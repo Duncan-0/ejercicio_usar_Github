{
 "cells": [
  {
   "cell_type": "code",
   "execution_count": 1,
   "id": "67e89c9e",
   "metadata": {},
   "outputs": [
    {
     "name": "stdout",
     "output_type": "stream",
     "text": [
      "0\n",
      "0\n",
      "9.0\n",
      "17.0\n",
      "22.0\n",
      "32.0\n",
      "39.0\n",
      "46.5\n",
      "50.5\n",
      "60.5\n",
      "67.5\n",
      "74.5\n",
      "82.5\n",
      "90.5\n",
      "98.0\n"
     ]
    }
   ],
   "source": [
    "notas = [0, 0, 9.0, 8.0, 5.0, 10.0, 7.0, 7.5, 4.0, 10.0, 7.0, 7.0, 8.0, 8.0, 7.5]\n",
    "suma_de_notas = 0\n",
    "\n",
    "for nota in notas:\n",
    "    suma_de_notas  += nota #    suma_de_notas  + suma_de_notas = nota\n",
    "\n",
    "    print(suma_de_notas)\n"
   ]
  }
 ],
 "metadata": {
  "kernelspec": {
   "display_name": "Python 3",
   "language": "python",
   "name": "python3"
  },
  "language_info": {
   "codemirror_mode": {
    "name": "ipython",
    "version": 3
   },
   "file_extension": ".py",
   "mimetype": "text/x-python",
   "name": "python",
   "nbconvert_exporter": "python",
   "pygments_lexer": "ipython3",
   "version": "3.8.8"
  }
 },
 "nbformat": 4,
 "nbformat_minor": 5
}
